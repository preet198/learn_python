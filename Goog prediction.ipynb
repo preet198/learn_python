{
 "cells": [
  {
   "cell_type": "code",
   "execution_count": 2,
   "metadata": {},
   "outputs": [
    {
     "name": "stderr",
     "output_type": "stream",
     "text": [
      "/anaconda3/lib/python3.6/site-packages/sklearn/cross_validation.py:41: DeprecationWarning: This module was deprecated in version 0.18 in favor of the model_selection module into which all the refactored classes and functions are moved. Also note that the interface of the new CV iterators are different from that of this module. This module will be removed in 0.20.\n",
      "  \"This module will be removed in 0.20.\", DeprecationWarning)\n"
     ]
    }
   ],
   "source": [
    "import pandas as pd\n",
    "import quandl, datetime\n",
    "import math\n",
    "import numpy as np\n",
    "from sklearn.linear_model import LinearRegression\n",
    "from sklearn.cross_validation import train_test_split\n",
    "from sklearn import metrics\n",
    "from sklearn import preprocessing, cross_validation, svm\n",
    "from sklearn.metrics import mean_squared_error, classification_report\n",
    "import seaborn as sns\n",
    "import matplotlib.pyplot as plt\n",
    "from matplotlib import style\n",
    "style.use('ggplot')\n",
    "# visualization\n",
    "# get_ipython().run_line_magic('matplotlib', 'inline')\n",
    "import seaborn as sns\n",
    "import matplotlib.pyplot as plt"
   ]
  },
  {
   "cell_type": "code",
   "execution_count": 3,
   "metadata": {},
   "outputs": [
    {
     "name": "stdout",
     "output_type": "stream",
     "text": [
      "            Adj. Close    HL_PCT  PCT_change  Adj. Volume\n",
      "Date                                                     \n",
      "2004-08-19   50.322842  3.712563    0.324968   44659000.0\n",
      "2004-08-20   54.322689  0.710922    7.227007   22834300.0\n",
      "2004-08-23   54.869377  3.729433   -1.227880   18256100.0\n",
      "2004-08-24   52.597363  6.417469   -5.726357   15247300.0\n",
      "2004-08-25   53.164113  1.886792    1.183658    9188600.0\n"
     ]
    }
   ],
   "source": [
    "df = quandl.get('WIKI/GOOGL')\n",
    "\n",
    "\n",
    "\n",
    "df = df[['Adj. Open', 'Adj. High', 'Adj. Low', 'Adj. Close', 'Adj. Volume']]\n",
    "\n",
    "df['HL_PCT'] = (df['Adj. High'] - df['Adj. Close']) / df['Adj. Close'] * 100\n",
    "df['PCT_change'] = (df['Adj. Close'] - df['Adj. Open']) / df['Adj. Open'] * 100\n",
    "df = df[['Adj. Close', 'HL_PCT', 'PCT_change', 'Adj. Volume']]\n",
    "\n",
    "print (df.head())"
   ]
  },
  {
   "cell_type": "code",
   "execution_count": 4,
   "metadata": {},
   "outputs": [
    {
     "name": "stdout",
     "output_type": "stream",
     "text": [
      "35\n",
      "            Adj. Close    HL_PCT  PCT_change  Adj. Volume    label\n",
      "Date                                                              \n",
      "2018-02-05     1068.76  4.325574   -2.893850    3742469.0  1006.94\n",
      "2018-02-06     1084.43  0.272032    4.879205    3732527.0      NaN\n",
      "2018-02-07     1055.41  2.948617   -2.724499    2544683.0      NaN\n",
      "2018-02-08     1005.60  5.800517   -5.120439    3067173.0      NaN\n",
      "2018-02-09     1043.43  0.794495    1.710726    4436032.0      NaN\n",
      "2018-02-12     1054.56  1.044037   -0.199684    2796258.0      NaN\n",
      "2018-02-13     1054.14  0.671638    0.394286    1574121.0      NaN\n",
      "2018-02-14     1072.70  0.258227    1.743304    2029979.0      NaN\n",
      "2018-02-15     1091.36  0.251063    0.730075    1806206.0      NaN\n",
      "2018-02-16     1095.50  1.169329    0.193894    1971928.0      NaN\n",
      "2018-02-20     1103.59  1.150790    0.991068    1646405.0      NaN\n",
      "2018-02-21     1113.75  2.015713    0.419259    2024534.0      NaN\n",
      "2018-02-22     1109.90  1.401928   -0.828292    1386115.0      NaN\n",
      "2018-02-23     1128.09  0.080667    0.842973    1234539.0      NaN\n",
      "2018-02-26     1143.70  0.043718    1.046066    1489118.0      NaN\n",
      "2018-02-27     1117.51  2.392820   -2.289936    2094863.0      NaN\n",
      "2018-02-28     1103.92  2.149612   -1.611408    2431023.0      NaN\n",
      "2018-03-01     1071.41  3.720331   -3.436559    2766856.0      NaN\n",
      "2018-03-02     1084.14  0.253657    2.472637    2508145.0      NaN\n",
      "2018-03-05     1094.76  0.586430    1.542486    1432369.0      NaN\n",
      "2018-03-06     1100.90  0.429648   -0.108883    1169068.0      NaN\n",
      "2018-03-07     1115.04  0.104032    2.033272    1537429.0      NaN\n",
      "2018-03-08     1129.38  0.182401    1.090226    1510478.0      NaN\n",
      "2018-03-09     1160.84  0.013783    1.872751    2070174.0      NaN\n",
      "2018-03-12     1165.93  1.048948    0.075533    2129297.0      NaN\n",
      "2018-03-13     1139.91  3.341492   -2.723945    2129435.0      NaN\n",
      "2018-03-14     1148.89  0.946131    0.269681    2033697.0      NaN\n",
      "2018-03-15     1150.61  1.033365    0.090469    1623868.0      NaN\n",
      "2018-03-16     1134.42  1.973696   -1.811572    2654602.0      NaN\n",
      "2018-03-19     1100.07  1.754434   -1.582630    3076349.0      NaN\n",
      "2018-03-20     1095.80  0.889761   -0.236708    2709310.0      NaN\n",
      "2018-03-21     1094.00  1.343693    0.130884    1990515.0      NaN\n",
      "2018-03-22     1053.15  2.921711   -2.487014    3418154.0      NaN\n",
      "2018-03-23     1026.55  3.918952   -2.360729    2413517.0      NaN\n",
      "2018-03-26     1054.09  0.491419    0.332191    3272409.0      NaN\n",
      "2018-03-27     1006.94  5.720301   -5.353887    2940957.0      NaN\n"
     ]
    }
   ],
   "source": [
    "forecast_col = 'Adj. Close'\n",
    "df.fillna(value=-99999, inplace=True)\n",
    "forecast_out = int(math.ceil(0.01 * len(df)))\n",
    "df['label'] = df[forecast_col].shift(-forecast_out)\n",
    "print(forecast_out)\n",
    "print(df.tail(36))"
   ]
  },
  {
   "cell_type": "code",
   "execution_count": 5,
   "metadata": {},
   "outputs": [
    {
     "name": "stdout",
     "output_type": "stream",
     "text": [
      "[[-1.39187095  2.33516806  0.23254018  4.46712802]\n",
      " [-1.37635178 -0.31135438  4.81828847  1.8207495 ]\n",
      " [-1.37423066  2.35004252 -0.79917922  1.26561472]\n",
      " ...\n",
      " [ 2.99737935 -0.50090092  0.33301614 -0.61156746]\n",
      " [ 2.7553098   0.01505419 -0.46778619 -0.24489949]\n",
      " [ 2.55960556  2.87565464 -1.90605746 -0.49425191]]\n",
      "####before dropping nan####\n",
      "            Adj. Close    HL_PCT  PCT_change  Adj. Volume  label\n",
      "Date                                                            \n",
      "2018-03-21     1094.00  1.343693    0.130884    1990515.0    NaN\n",
      "2018-03-22     1053.15  2.921711   -2.487014    3418154.0    NaN\n",
      "2018-03-23     1026.55  3.918952   -2.360729    2413517.0    NaN\n",
      "2018-03-26     1054.09  0.491419    0.332191    3272409.0    NaN\n",
      "2018-03-27     1006.94  5.720301   -5.353887    2940957.0    NaN\n",
      "####after dropping nan####\n",
      "            Adj. Close    HL_PCT  PCT_change  Adj. Volume    label\n",
      "Date                                                              \n",
      "2018-01-30     1177.37  0.896914   -0.029718    1792602.0  1094.00\n",
      "2018-01-31     1182.22  0.346805   -0.134312    1643877.0  1053.15\n",
      "2018-02-01     1181.59  0.495942    0.476195    2774967.0  1026.55\n",
      "2018-02-02     1119.20  1.081129   -0.729098    5798880.0  1054.09\n",
      "2018-02-05     1068.76  4.325574   -2.893850    3742469.0  1006.94\n",
      "3389 3389\n"
     ]
    }
   ],
   "source": [
    "# dropping lable for features. have to. this is the training data.\n",
    "X = np.array(df.drop(['label'], 1))\n",
    "X = preprocessing.scale(X)\n",
    "X_lately = X[-forecast_out:]\n",
    "X = X[:-forecast_out]\n",
    "print(X)\n",
    "print('####before dropping nan####')\n",
    "print(df.tail())\n",
    "df.dropna(inplace=True)\n",
    "print('####after dropping nan####')\n",
    "print(df.tail())\n",
    "y = np.array(df['label'])\n",
    "X_train, X_test, y_train, y_test = cross_validation.train_test_split(X, y, test_size=0.1)\n",
    "print(len(X), len(y))"
   ]
  },
  {
   "cell_type": "code",
   "execution_count": 6,
   "metadata": {},
   "outputs": [],
   "source": [
    "clf = LinearRegression(n_jobs=-1)\n",
    "clf.fit(X_train, y_train) \n",
    "#fit is synonyms with train\n",
    "#score/accuracy is synonyms with test\n",
    "accuracy = clf.score(X_test, y_test)\n",
    "clf2 = svm.SVR()\n",
    "clf2.fit(X_train, y_train)\n",
    "accuracy2 = clf2.score(X_test, y_test)"
   ]
  },
  {
   "cell_type": "code",
   "execution_count": 7,
   "metadata": {},
   "outputs": [
    {
     "name": "stdout",
     "output_type": "stream",
     "text": [
      "[1100.57520863 1071.97418954 1018.96812286 1059.90923709 1072.30590876\n",
      " 1072.48076484 1090.91615957 1110.33024034 1113.49175949 1121.37636742\n",
      " 1130.62835247 1128.41190166 1147.72691859 1163.33078622 1135.26710109\n",
      " 1121.43436535 1087.36249772 1101.93106735 1113.01910806 1120.34580931\n",
      " 1133.83230774 1148.67529231 1180.04433852 1184.68247063 1156.79214116\n",
      " 1167.57013243 1169.41299486 1152.4544188  1117.85569394 1114.1460089\n",
      " 1111.7713027  1069.32429185 1041.42938161 1072.14665043 1020.58685642] 0.8200404196643916 35\n"
     ]
    }
   ],
   "source": [
    "forecast_set = clf.predict(X_lately)\n",
    "print(forecast_set, accuracy2, forecast_out)"
   ]
  },
  {
   "cell_type": "code",
   "execution_count": 8,
   "metadata": {},
   "outputs": [],
   "source": [
    "df['Forecast'] = np.nan\n",
    "last_date = df.iloc[-1].name\n",
    "last_unix = last_date.timestamp()\n",
    "one_day = 86400\n",
    "next_unix = last_unix + one_day"
   ]
  },
  {
   "cell_type": "code",
   "execution_count": 9,
   "metadata": {},
   "outputs": [],
   "source": [
    "for i in forecast_set:\n",
    "    next_date = datetime.datetime.fromtimestamp(next_unix)\n",
    "    next_unix += one_day\n",
    "    df.loc[next_date] = [np.nan for _ in range(len(df.columns)-1)] +[i]"
   ]
  },
  {
   "cell_type": "code",
   "execution_count": 10,
   "metadata": {},
   "outputs": [
    {
     "data": {
      "image/png": "[encoded data removed]",
      "text/plain": [
       "<Figure size 432x288 with 1 Axes>"
      ]
     },
     "metadata": {},
     "output_type": "display_data"
    }
   ],
   "source": [
    "df['Adj. Close'].plot()\n",
    "df['Forecast'].plot()\n",
    "plt.xlabel('Date')\n",
    "plt.ylabel('Price')\n",
    "plt.show()"
   ]
  },
  {
   "cell_type": "code",
   "execution_count": null,
   "metadata": {},
   "outputs": [],
   "source": []
  },
  {
   "cell_type": "code",
   "execution_count": null,
   "metadata": {},
   "outputs": [],
   "source": []
  }
 ],
 "metadata": {
  "kernelspec": {
   "display_name": "Python 3",
   "language": "python",
   "name": "python3"
  },
  "language_info": {
   "codemirror_mode": {
    "name": "ipython",
    "version": 3
   },
   "file_extension": ".py",
   "mimetype": "text/x-python",
   "name": "python",
   "nbconvert_exporter": "python",
   "pygments_lexer": "ipython3",
   "version": "3.6.5"
  }
 },
 "nbformat": 4,
 "nbformat_minor": 2
}
