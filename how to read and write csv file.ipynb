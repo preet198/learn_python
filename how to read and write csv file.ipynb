{
 "cells": [
  {
   "cell_type": "code",
   "execution_count": 5,
   "metadata": {},
   "outputs": [],
   "source": [
    "import pandas as pd\n",
    "import matplotlib.pyplot as plt\n",
    "from matplotlib import style\n",
    "style.use('ggplot')"
   ]
  },
  {
   "cell_type": "code",
   "execution_count": 6,
   "metadata": {},
   "outputs": [],
   "source": [
    "df = pd.read_csv(\"./stockdata/JPM.csv\")"
   ]
  },
  {
   "cell_type": "code",
   "execution_count": 7,
   "metadata": {},
   "outputs": [
    {
     "name": "stdout",
     "output_type": "stream",
     "text": [
      "        Date       Open       High        Low      Close  Adj Close    Volume\n",
      "0  11/1/2006  47.750000  47.820000  46.709999  46.930000  35.236969  11490200\n",
      "1  11/2/2006  46.930000  47.080002  46.689999  46.900002  35.214451   7059000\n",
      "2  11/3/2006  47.150002  47.250000  46.500000  46.889999  35.206947   7984100\n",
      "3  11/6/2006  47.180000  47.720001  47.049999  47.650002  35.777580   8633700\n",
      "4  11/7/2006  47.500000  48.000000  47.470001  47.490002  35.657448   8535500\n"
     ]
    }
   ],
   "source": [
    "print(df.head())"
   ]
  },
  {
   "cell_type": "code",
   "execution_count": 8,
   "metadata": {},
   "outputs": [],
   "source": [
    "df.set_index('Date', inplace=True)"
   ]
  },
  {
   "cell_type": "code",
   "execution_count": 9,
   "metadata": {},
   "outputs": [],
   "source": [
    "df.to_csv('newJPM.csv')"
   ]
  },
  {
   "cell_type": "code",
   "execution_count": 11,
   "metadata": {},
   "outputs": [
    {
     "name": "stdout",
     "output_type": "stream",
     "text": [
      "                Open       High        Low      Close  Adj Close    Volume\n",
      "Date                                                                      \n",
      "11/1/2006  47.750000  47.820000  46.709999  46.930000  35.236969  11490200\n",
      "11/2/2006  46.930000  47.080002  46.689999  46.900002  35.214451   7059000\n",
      "11/3/2006  47.150002  47.250000  46.500000  46.889999  35.206947   7984100\n",
      "11/6/2006  47.180000  47.720001  47.049999  47.650002  35.777580   8633700\n",
      "11/7/2006  47.500000  48.000000  47.470001  47.490002  35.657448   8535500\n"
     ]
    }
   ],
   "source": [
    "print(df.head())"
   ]
  },
  {
   "cell_type": "code",
   "execution_count": 14,
   "metadata": {},
   "outputs": [],
   "source": [
    "df = pd.read_csv('newJPM.csv',index_col=0)"
   ]
  },
  {
   "cell_type": "code",
   "execution_count": 15,
   "metadata": {},
   "outputs": [
    {
     "name": "stdout",
     "output_type": "stream",
     "text": [
      "                Open       High        Low      Close  Adj Close    Volume\n",
      "Date                                                                      \n",
      "11/1/2006  47.750000  47.820000  46.709999  46.930000  35.236969  11490200\n",
      "11/2/2006  46.930000  47.080002  46.689999  46.900002  35.214451   7059000\n",
      "11/3/2006  47.150002  47.250000  46.500000  46.889999  35.206947   7984100\n",
      "11/6/2006  47.180000  47.720001  47.049999  47.650002  35.777580   8633700\n",
      "11/7/2006  47.500000  48.000000  47.470001  47.490002  35.657448   8535500\n"
     ]
    }
   ],
   "source": []
  }
 ],
 "metadata": {
  "kernelspec": {
   "display_name": "Python 3",
   "language": "python",
   "name": "python3"
  },
  "language_info": {
   "codemirror_mode": {
    "name": "ipython",
    "version": 3
   },
   "file_extension": ".py",
   "mimetype": "text/x-python",
   "name": "python",
   "nbconvert_exporter": "python",
   "pygments_lexer": "ipython3",
   "version": "3.6.5"
  }
 },
 "nbformat": 4,
 "nbformat_minor": 2
}
